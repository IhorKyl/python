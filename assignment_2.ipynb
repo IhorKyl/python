{
 "cells": [
  {
   "cell_type": "code",
   "execution_count": null,
   "metadata": {},
   "outputs": [],
   "source": [
    "with open(all_paths[0], 'r') as f:\n",
    "    # YOUR CODE HERE: Use the readline() method to read the .csv file into 'contents'\n",
    "    \n",
    "    # YOUR CODE HERE: Iterate through 'contents' using a for loop and print each row for inspection"
   ]
  }
 ],
 "metadata": {
  "language_info": {
   "name": "python"
  }
 },
 "nbformat": 4,
 "nbformat_minor": 2
}
