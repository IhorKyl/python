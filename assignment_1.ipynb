{
 "cells": [
  {
   "cell_type": "code",
   "execution_count": 5,
   "metadata": {},
   "outputs": [
    {
     "name": "stdout",
     "output_type": "stream",
     "text": [
      "You are trying to check words \"Slient\" and \"listen\".\n",
      "Case_sensitive mode OFF!\n",
      "This words are an anagram.\n"
     ]
    },
    {
     "data": {
      "text/plain": [
       "True"
      ]
     },
     "execution_count": 5,
     "metadata": {},
     "output_type": "execute_result"
    }
   ],
   "source": [
    "# function take string, change all charancters to lower case and order them\n",
    "def char_sort_lower(word, is_case_sensitive):\n",
    "    if ( not(is_case_sensitive )):\n",
    "        word = word.lower()   # Lower and Uper case should consider like the same\n",
    "    l_word_1 = list(word)     # define elements of list with characters of string\n",
    "    l_word_1.sort()\n",
    "    word = ''.join(l_word_1)\n",
    "    return word\n",
    "\n",
    "# function take two words and check if all symbols are the same.\n",
    "def anagram_checker(word_a, word_b, is_case_sensitive):\n",
    "    print(\"You are trying to check words \\\"\" + word_a + \"\\\" and \\\"\" + word_b + \"\\\".\")\n",
    "    if ( is_case_sensitive ):\n",
    "        print(\"Case_sensitive mode ON!\")\n",
    "    else:        \n",
    "        print(\"Case_sensitive mode OFF!\")\n",
    "    word_a = char_sort_lower(word_a, is_case_sensitive)\n",
    "    word_b = char_sort_lower(word_b, is_case_sensitive)\n",
    "\n",
    "    if ( word_a == word_b ):\n",
    "        print(\"This words are an anagram.\")\n",
    "        return True\n",
    "    else:\n",
    "        print(\"This words are not an anagram.\")\n",
    "        return False\n",
    "\n",
    "anagram_checker(\"Slient\", \"listen\", False) # True"
   ]
  },
  {
   "cell_type": "code",
   "execution_count": 6,
   "metadata": {},
   "outputs": [
    {
     "name": "stdout",
     "output_type": "stream",
     "text": [
      "You are trying to check words \"Slient\" and \"Listen\".\n",
      "Case_sensitive mode ON!\n",
      "This words are not an anagram.\n"
     ]
    },
    {
     "data": {
      "text/plain": [
       "False"
      ]
     },
     "execution_count": 6,
     "metadata": {},
     "output_type": "execute_result"
    }
   ],
   "source": [
    "\n",
    "anagram_checker(\"Slient\", \"Listen\", True) # False"
   ]
  }
 ],
 "metadata": {
  "kernelspec": {
   "display_name": "dsi_participant",
   "language": "python",
   "name": "python3"
  },
  "language_info": {
   "codemirror_mode": {
    "name": "ipython",
    "version": 3
   },
   "file_extension": ".py",
   "mimetype": "text/x-python",
   "name": "python",
   "nbconvert_exporter": "python",
   "pygments_lexer": "ipython3",
   "version": "3.9.15"
  }
 },
 "nbformat": 4,
 "nbformat_minor": 2
}
