{
 "cells": [
  {
   "cell_type": "code",
   "execution_count": 40,
   "metadata": {},
   "outputs": [
    {
     "name": "stdout",
     "output_type": "stream",
     "text": [
      "You are trying to check word \" iMaf \" and word \" fM iz\".\n",
      "  afim\n",
      "  fimz\n",
      "This words are not an anagram.\n"
     ]
    },
    {
     "data": {
      "text/plain": [
       "False"
      ]
     },
     "execution_count": 40,
     "metadata": {},
     "output_type": "execute_result"
    }
   ],
   "source": [
    "# function take string, change all charancters to lower case and order them\n",
    "def char_sort_lower(word):\n",
    "    word = word.lower()   # Lower and Uper case should consider like the same\n",
    "    l_word_1 = list(word)\n",
    "    l_word_1.sort()\n",
    "    word = ''.join(l_word_1)\n",
    "    return word\n",
    "\n",
    "# function take two words and check if all symbols are the same.\n",
    "def anagrama_checker(word_1, word_2):\n",
    "    print(\"You are trying to check word \\\"\" + word_1 + \"\\\" and word \\\"\" + word_2 + \"\\\".\")\n",
    "    word_1 = char_sort_lower(word_1)\n",
    "    word_2 = char_sort_lower(word_2)\n",
    "\n",
    "    if ( word_1 == word_2 ):\n",
    "        print(\"This words are an anagram.\")\n",
    "        return True\n",
    "    else:\n",
    "        print(\"This words are not an anagram.\")\n",
    "        return False\n",
    "\n",
    "anagrama_checker(\" iMaf \", \" fM iz\")"
   ]
  }
 ],
 "metadata": {
  "kernelspec": {
   "display_name": "dsi_participant",
   "language": "python",
   "name": "python3"
  },
  "language_info": {
   "codemirror_mode": {
    "name": "ipython",
    "version": 3
   },
   "file_extension": ".py",
   "mimetype": "text/x-python",
   "name": "python",
   "nbconvert_exporter": "python",
   "pygments_lexer": "ipython3",
   "version": "3.9.15"
  }
 },
 "nbformat": 4,
 "nbformat_minor": 2
}
